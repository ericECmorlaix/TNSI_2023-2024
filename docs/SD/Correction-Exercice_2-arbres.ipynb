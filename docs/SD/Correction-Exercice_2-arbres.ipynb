{
 "cells": [
  {
   "cell_type": "code",
   "execution_count": 1,
   "metadata": {},
   "outputs": [],
   "source": [
    "V = {'A': 1 , 'B': 2 , 'C': 3 , 'D': 5 , 'E': 10 , 'F': 15 , 'G': 4 , 'H': 5 , 'I': 5 , 'J': 7}"
   ]
  },
  {
   "cell_type": "code",
   "execution_count": 2,
   "metadata": {},
   "outputs": [
    {
     "data": {
      "text/plain": [
       "{'A': 1,\n",
       " 'B': 2,\n",
       " 'C': 3,\n",
       " 'D': 5,\n",
       " 'E': 10,\n",
       " 'F': 15,\n",
       " 'G': 4,\n",
       " 'H': 5,\n",
       " 'I': 5,\n",
       " 'J': 7}"
      ]
     },
     "execution_count": 2,
     "metadata": {},
     "output_type": "execute_result"
    }
   ],
   "source": [
    "V"
   ]
  },
  {
   "cell_type": "code",
   "execution_count": 3,
   "metadata": {},
   "outputs": [
    {
     "data": {
      "text/plain": [
       "dict"
      ]
     },
     "execution_count": 3,
     "metadata": {},
     "output_type": "execute_result"
    }
   ],
   "source": [
    "type(V)"
   ]
  },
  {
   "cell_type": "code",
   "execution_count": 4,
   "metadata": {},
   "outputs": [
    {
     "data": {
      "text/plain": [
       "7"
      ]
     },
     "execution_count": 4,
     "metadata": {},
     "output_type": "execute_result"
    }
   ],
   "source": [
    "V['J']"
   ]
  },
  {
   "cell_type": "code",
   "execution_count": 14,
   "metadata": {},
   "outputs": [
    {
     "data": {
      "text/plain": [
       "11"
      ]
     },
     "execution_count": 14,
     "metadata": {},
     "output_type": "execute_result"
    }
   ],
   "source": [
    "len(V)"
   ]
  },
  {
   "cell_type": "code",
   "execution_count": 13,
   "metadata": {},
   "outputs": [
    {
     "data": {
      "text/plain": [
       "{'A': 1,\n",
       " 'B': 2,\n",
       " 'C': 3,\n",
       " 'D': 5,\n",
       " 'E': 10,\n",
       " 'F': 15,\n",
       " 'G': 4,\n",
       " 'H': 5,\n",
       " 'I': 5,\n",
       " 'J': 7,\n",
       " 'K': 12}"
      ]
     },
     "execution_count": 13,
     "metadata": {},
     "output_type": "execute_result"
    }
   ],
   "source": [
    "V['K']=12\n",
    "V"
   ]
  },
  {
   "cell_type": "code",
   "execution_count": 15,
   "metadata": {},
   "outputs": [
    {
     "data": {
      "text/plain": [
       "{'A': 1,\n",
       " 'B': 2,\n",
       " 'C': 3,\n",
       " 'D': 5,\n",
       " 'E': 10,\n",
       " 'F': 15,\n",
       " 'G': 4,\n",
       " 'H': 5,\n",
       " 'I': 5,\n",
       " 'J': 7}"
      ]
     },
     "execution_count": 15,
     "metadata": {},
     "output_type": "execute_result"
    }
   ],
   "source": [
    "del V['K']\n",
    "V"
   ]
  },
  {
   "cell_type": "code",
   "execution_count": 5,
   "metadata": {},
   "outputs": [
    {
     "data": {
      "text/plain": [
       "dict_values([1, 2, 3, 5, 10, 15, 4, 5, 5, 7])"
      ]
     },
     "execution_count": 5,
     "metadata": {},
     "output_type": "execute_result"
    }
   ],
   "source": [
    "V.values()"
   ]
  },
  {
   "cell_type": "code",
   "execution_count": 6,
   "metadata": {},
   "outputs": [
    {
     "data": {
      "text/plain": [
       "dict_keys(['A', 'B', 'C', 'D', 'E', 'F', 'G', 'H', 'I', 'J'])"
      ]
     },
     "execution_count": 6,
     "metadata": {},
     "output_type": "execute_result"
    }
   ],
   "source": [
    "V.keys()"
   ]
  },
  {
   "cell_type": "code",
   "execution_count": 7,
   "metadata": {},
   "outputs": [
    {
     "data": {
      "text/plain": [
       "dict_items([('A', 1), ('B', 2), ('C', 3), ('D', 5), ('E', 10), ('F', 15), ('G', 4), ('H', 5), ('I', 5), ('J', 7)])"
      ]
     },
     "execution_count": 7,
     "metadata": {},
     "output_type": "execute_result"
    }
   ],
   "source": [
    "V.items()"
   ]
  },
  {
   "cell_type": "markdown",
   "metadata": {},
   "source": [
    "## Parcours"
   ]
  },
  {
   "cell_type": "code",
   "execution_count": 9,
   "metadata": {},
   "outputs": [
    {
     "data": {
      "text/plain": [
       "['A', 'B', 'C', 'D', 'E', 'F', 'G', 'H', 'I', 'J']"
      ]
     },
     "execution_count": 9,
     "metadata": {},
     "output_type": "execute_result"
    }
   ],
   "source": [
    "tableau_cles_V = []\n",
    "\n",
    "for cle in V :\n",
    "    tableau_cles_V.append(cle)\n",
    "\n",
    "tableau_cles_V "
   ]
  },
  {
   "cell_type": "code",
   "execution_count": 10,
   "metadata": {},
   "outputs": [
    {
     "data": {
      "text/plain": [
       "[1, 2, 3, 5, 10, 15, 4, 5, 5, 7]"
      ]
     },
     "execution_count": 10,
     "metadata": {},
     "output_type": "execute_result"
    }
   ],
   "source": [
    "tableau_valeurs_V = []\n",
    "\n",
    "for cle in V :\n",
    "    tableau_valeurs_V.append(V[cle])\n",
    "\n",
    "tableau_valeurs_V"
   ]
  },
  {
   "cell_type": "code",
   "execution_count": 19,
   "metadata": {},
   "outputs": [
    {
     "data": {
      "text/plain": [
       "[('A', 1),\n",
       " ('B', 2),\n",
       " ('C', 3),\n",
       " ('D', 5),\n",
       " ('E', 10),\n",
       " ('F', 15),\n",
       " ('G', 4),\n",
       " ('H', 5),\n",
       " ('I', 5),\n",
       " ('J', 7)]"
      ]
     },
     "execution_count": 19,
     "metadata": {},
     "output_type": "execute_result"
    }
   ],
   "source": [
    "tableau_elements_V = []\n",
    "\n",
    "for cle in V :\n",
    "    tableau_elements_V.append((cle,V[cle]))\n",
    "\n",
    "tableau_elements_V"
   ]
  },
  {
   "cell_type": "code",
   "execution_count": 16,
   "metadata": {},
   "outputs": [
    {
     "data": {
      "text/plain": [
       "[1, 2, 3, 5, 10, 15, 4, 5, 5, 7]"
      ]
     },
     "execution_count": 16,
     "metadata": {},
     "output_type": "execute_result"
    }
   ],
   "source": [
    "list(V.values())"
   ]
  },
  {
   "cell_type": "code",
   "execution_count": 17,
   "metadata": {},
   "outputs": [
    {
     "data": {
      "text/plain": [
       "['A', 'B', 'C', 'D', 'E', 'F', 'G', 'H', 'I', 'J']"
      ]
     },
     "execution_count": 17,
     "metadata": {},
     "output_type": "execute_result"
    }
   ],
   "source": [
    "list(V.keys())"
   ]
  },
  {
   "cell_type": "code",
   "execution_count": 18,
   "metadata": {},
   "outputs": [
    {
     "data": {
      "text/plain": [
       "[('A', 1),\n",
       " ('B', 2),\n",
       " ('C', 3),\n",
       " ('D', 5),\n",
       " ('E', 10),\n",
       " ('F', 15),\n",
       " ('G', 4),\n",
       " ('H', 5),\n",
       " ('I', 5),\n",
       " ('J', 7)]"
      ]
     },
     "execution_count": 18,
     "metadata": {},
     "output_type": "execute_result"
    }
   ],
   "source": [
    "list(V.items())"
   ]
  },
  {
   "cell_type": "code",
   "execution_count": 20,
   "metadata": {},
   "outputs": [
    {
     "data": {
      "text/plain": [
       "57"
      ]
     },
     "execution_count": 20,
     "metadata": {},
     "output_type": "execute_result"
    }
   ],
   "source": [
    "def somme(W:dict)->int :\n",
    "    \"\"\"Renvoie la somme des valeurs de W\"\"\"\n",
    "    somme = 0\n",
    "    for cle in W :\n",
    "        somme += W[cle]\n",
    "    return somme\n",
    "\n",
    "somme(V)"
   ]
  },
  {
   "cell_type": "code",
   "execution_count": 21,
   "metadata": {},
   "outputs": [
    {
     "data": {
      "text/plain": [
       "'F'"
      ]
     },
     "execution_count": 21,
     "metadata": {},
     "output_type": "execute_result"
    }
   ],
   "source": [
    "def VMax(W:dict)->int :\n",
    "    \"\"\"Renvoie la somme des valeurs de W\"\"\"\n",
    "    max = 0\n",
    "    cle_du_max = ''\n",
    "    for cle in W :\n",
    "        if max < W[cle] :\n",
    "            max = W[cle]\n",
    "            cle_du_max = cle\n",
    "    return cle_du_max\n",
    "\n",
    "somme(V)"
   ]
  },
  {
   "cell_type": "markdown",
   "metadata": {},
   "source": [
    "```\n",
    "CALCUL(T : arbre) :\n",
    "VARIABLE\n",
    "x : noeud\n",
    "DEBUT\n",
    "    si T n’est pas un arbre vide :\n",
    "        x ← racine de T\n",
    "        renvoyer 1 + CALCUL(sous arbre gauche de x) + CALCUL(sous arbre droit de x)\n",
    "    sinon :\n",
    "        renvoyer 0\n",
    "    fin si\n",
    "FIN\n",
    "```\n",
    "\n",
    "Calcule la taille de l'arbre. Fonction récursive, on additionne la taille du sous arbre gauche à la taille du sous arbre droit sans oublier de comptabiliser le noeud racine..."
   ]
  },
  {
   "cell_type": "markdown",
   "metadata": {},
   "source": [
    "```\n",
    "VISITE(T: arbre) :\n",
    "VARIABLE\n",
    "x : noeud\n",
    "DEBUT\n",
    "    si T n’est pas un arbre vide :\n",
    "        x ← racine de T\n",
    "        affiche clé de x\n",
    "        VISITE(sous arbre gauche de x)\n",
    "        VISITE(sous arbre droit de x)\n",
    "    fin si\n",
    "FIN\n",
    "```\n",
    "\n",
    "A B C E D F G I H J\n",
    "\n",
    "Parcours en profondeur préfixe.\n",
    "\n"
   ]
  },
  {
   "cell_type": "markdown",
   "metadata": {},
   "source": []
  }
 ],
 "metadata": {
  "kernelspec": {
   "display_name": "Python 3",
   "language": "python",
   "name": "python3"
  },
  "language_info": {
   "codemirror_mode": {
    "name": "ipython",
    "version": 3
   },
   "file_extension": ".py",
   "mimetype": "text/x-python",
   "name": "python",
   "nbconvert_exporter": "python",
   "pygments_lexer": "ipython3",
   "version": "3.10.1"
  }
 },
 "nbformat": 4,
 "nbformat_minor": 2
}
