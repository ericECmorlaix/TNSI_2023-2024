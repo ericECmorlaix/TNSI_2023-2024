{
 "cells": [
  {
   "cell_type": "markdown",
   "metadata": {},
   "source": [
    "# Devoir surveillé n°2 – Partie pratique C\n",
    "\n",
    "\n",
    "## Consignes\n",
    "\n",
    "Vous devez enregister ce fichier sous le nom `HANOI_C-nom-prenom.ipynb`\n",
    "\n",
    "De plus vous devez compléter votre fichier `HANOI-nom-prenom.py` avec le code de toutes les fonctions définies ici et dans les parties A et B y compris le code d'implémentation pour les piles que vous aurez utilisé afin de pouvoir l'importer pour la suite du développement de ce projet.\n",
    "\n",
    "À la fin de la séance, transmettez vos fichiers par mail à l'adresse `eric.madec@ecmorlaix.fr`\n",
    "\n",
    "Respectez bien le nom des fonctions pour faciliter la relecture du code.\n",
    "\n",
    "Vous pouvez rajouter des commentaires lorsque vous pensez que c’est nécessaire.\n",
    "\n",
    "De même, essayez de choisir des variables dont le nom est compréhensible, si c’est pertinent.\n",
    "\n",
    "\n",
    "# Les tours de Hanoï\n",
    "\n",
    "Les tours seront modélisées par une liste de 3 piles.\n",
    "\n",
    "Pour les piles, vous avez le choix entre deux implémentations données :\n",
    "- Dans la première, une pile est une liste Python.\n",
    "- Dans la deuxième, on définit une classe Pile qui utilise également une liste Python.\n",
    "\n",
    "Vous devez manipuler une pile uniquement avec les fonctions ou méthodes fournies.\n",
    "\n",
    "Pour pouvoir les utiliser dans ce notebook il vous faut les importer depuis votre module `ds2-nom-prenom.py` tout comme les fonctions que vous avez définies dans les parties A et B."
   ]
  },
  {
   "cell_type": "code",
   "execution_count": 2,
   "metadata": {},
   "outputs": [],
   "source": [
    "from ds2_nom_prenom import *"
   ]
  },
  {
   "cell_type": "code",
   "execution_count": null,
   "metadata": {},
   "outputs": [],
   "source": []
  },
  {
   "cell_type": "markdown",
   "metadata": {},
   "source": [
    "# Affichage :\n",
    "\n",
    "<img src=\"https://ericecmorlaix.github.io/img/ds2_hanoi-02.png\" alt=\"ds2_hanoi-02.png\" width=30% align='right' >\n",
    "\n",
    "Nous allons maintenant ajouter un affichage permettant de mieux visualiser l’état des tours.\n",
    "\n",
    "Pour cela nous allons passer par un tableau à 2 dimensions montrant le contenu de chaque pile.\n",
    "\n",
    "Ainsi le tableau ci-dessous correspond à la situation ci-contre :\n",
    "```python\n",
    "tab = [[5, 2, 0, 0, 0],\n",
    "       [4, 3, 1, 0, 0],\n",
    "       [0, 0, 0, 0, 0]]\n",
    "```\n",
    "\n",
    "Le tableau est composé de 3 tableaux de n valeurs, où n est le nombre de disques, et lorsqu’il n’y a pas de disques, la valeur est 0.\n",
    "\n",
    "## Exercice 7 :\n",
    "\n",
    "Écrire une fonction `pile_vers_tableau(pile, n)` qui renvoie le tableau de taille n correspondant à pile.\n",
    "\n",
    "Il ne faut pas utiliser le fait que les piles sont représentées par des listes. Il faut au contraire dépiler la pile, en empilant les valeurs sur une autre pile, puis la réempiler, tout en notant les valeurs dans le tableau, afin qu’elle retrouve son état initial. La deuxième pile n’est pas obligée de contenir des valeurs dans l’ordre décroissant.\n",
    "\n",
    "<img src=\"https://ericecmorlaix.github.io/img/ds2_hanoi-03.png\" alt=\"ds2_hanoi-03.png\" width=70% >\n",
    "\n",
    "> Pour rappel, pour créer un tableau rempli de n 0, il faut faire `[0]*n`.\n"
   ]
  },
  {
   "cell_type": "code",
   "execution_count": null,
   "metadata": {},
   "outputs": [],
   "source": [
    "def pile_vers_tableau(pile, n):\n",
    "    '''\n",
    "    \n",
    "    '''\n",
    "    \n",
    "    "
   ]
  },
  {
   "cell_type": "markdown",
   "metadata": {},
   "source": [
    "Tester votre fonction `pile_vers_tableau(pile, n)` ci-dessous de sorte que :\n",
    "\n",
    "```python \n",
    "# Première implémentation pour les piles\n",
    ">>> pile = creer_pile()\n",
    ">>> empiler(pile, 4)\n",
    ">>> empiler(pile, 3)\n",
    ">>> empiler(pile, 1)\n",
    ">>> pile_vers_tableau(pile, 5)\n",
    "[4, 3, 1, 0, 0]\n",
    "```\n",
    "```python \n",
    "# Deuxième implémentation pour les piles\n",
    ">>> pile = Pile()\n",
    ">>> pile.empiler(4)\n",
    ">>> pile.empiler(3)\n",
    ">>> pile.empiler(1)\n",
    ">>> pile_vers_tableau(pile, 5)\n",
    "[4, 3, 1, 0, 0]\n",
    "```"
   ]
  },
  {
   "cell_type": "markdown",
   "metadata": {},
   "source": [
    "## Exercice 8 :\n",
    "\n",
    "Écrire une fonction tours_vers_matrice(tours, n) qui renvoie le tableau à deux dimensions correspondant aux tours."
   ]
  },
  {
   "cell_type": "code",
   "execution_count": null,
   "metadata": {},
   "outputs": [],
   "source": [
    "def tours_vers_matrice(tours, n) :\n",
    "       \n",
    "    \n",
    "    \n",
    "    "
   ]
  },
  {
   "cell_type": "markdown",
   "metadata": {},
   "source": [
    "Tester votre fonction `tours_vers_matrice(tours, n)` ci-dessous de sorte que :\n",
    "\n",
    "```python \n",
    ">>> tours = [[5, 4, 3], [1], [2]]\n",
    ">>> tours_vers_matrice(tours, 5)\n",
    "[[5, 4, 3, 0, 0], [1, 0, 0, 0, 0], [2, 0, 0, 0, 0]]\n",
    "```"
   ]
  },
  {
   "cell_type": "markdown",
   "metadata": {},
   "source": [
    "## Exercice 9 :\n",
    "\n",
    "Écrire une fonction `affichage_matrice(matrice, n)` qui affiche l’état des 3 piles.\n",
    "\n",
    "Il y a un espace avant chaque colonne.\n",
    "\n",
    "Les `0` sont remplacés par des `|` et les autres nombres sont affichés.\n",
    "\n",
    "Vous pouvez vous inspirer de la structure du code ci-dessous :"
   ]
  },
  {
   "cell_type": "code",
   "execution_count": null,
   "metadata": {},
   "outputs": [],
   "source": [
    "def affichage_matrice(matrice, n) :\n",
    "\n",
    "    for j in range(n-1, -1, -1): # parcours de droite à gauche des sous-tableaux\n",
    "        ...\n",
    "        for i in range(3): # parcours de haut en bas des tableaux\n",
    "            ...\n",
    "            quelque chose avec matrice[i][j]\n",
    "            ...\n",
    "        ...\n",
    "    \n",
    "\n",
    "    \n",
    "    \n",
    "    \n",
    "    "
   ]
  },
  {
   "cell_type": "markdown",
   "metadata": {},
   "source": [
    "Tester votre fonction `affichage_matrice(matrice, n)` ci-dessous de sorte que :\n",
    "\n",
    "``` \n",
    ">>> matrice = [[5, 4, 3, 0, 0], [1, 0, 0, 0, 0], [2, 0, 0, 0, 0]]\n",
    ">>> affichage_matrice(matrice, 5)\n",
    " | | |\n",
    " | | |\n",
    " 3 | |\n",
    " 4 | |\n",
    " 5 1 2\n",
    "```"
   ]
  },
  {
   "cell_type": "markdown",
   "metadata": {},
   "source": [
    "## Exercice 10 :\n",
    "\n",
    "Écrire une foncion `affichage_tours(tours, n)` qui affiche le contenu des tours sur un socle à la base du jeu.\n",
    "\n",
    "Le socle est une ligne de `=` dépassant de chaque coté des piles."
   ]
  },
  {
   "cell_type": "code",
   "execution_count": null,
   "metadata": {},
   "outputs": [],
   "source": [
    "def affichage_tours(tours, n) :\n",
    "    "
   ]
  },
  {
   "cell_type": "markdown",
   "metadata": {},
   "source": [
    "Tester votre fonction `affichage_tours(tours, n)` ci-dessous de sorte que :\n",
    "\n",
    "``` \n",
    ">>> tours = [[5, 4, 3], [1], [2]]\n",
    ">>> afichage_tours(tours, n)\n",
    " | | |\n",
    " | | |\n",
    " 3 | |\n",
    " 4 | |\n",
    " 5 1 2\n",
    "=======\n",
    "```"
   ]
  },
  {
   "cell_type": "markdown",
   "metadata": {},
   "source": [
    "## Exercice 11 : \n",
    "\n",
    "En rajoutant des affichages aux bons endroits dans la fonction `resoudre()`, afficher les différentes étapes par lesquelles passent les tours.\n",
    "\n",
    "L’état initial ne doit pas être affiché par `resoudre()`.\n",
    "\n",
    "Il faudra rajouter un paramètre à `resoudre` indiquant le nombre total de disques dans le jeu.\n",
    "\n",
    "Vous pouvez par exemple utiliser : `resoudre(tours, n_disques, n, origine, cible, interm)`, la valeur `n_disques` ne diminuant pas lors des appels récursifs."
   ]
  },
  {
   "cell_type": "code",
   "execution_count": null,
   "metadata": {},
   "outputs": [],
   "source": [
    "def resoudre(tours, n_disques, n, origine, cible, interm):\n"
   ]
  },
  {
   "cell_type": "markdown",
   "metadata": {},
   "source": [
    "Tester votre nouvelle fonction `resoudre(tours, n_disques, n, origine, cible, interm)` ci-dessous de sorte que :\n",
    "\n",
    "``` \n",
    ">>> resoudre(creation_tours(2), 2, 2, 0, 2, 1)\n",
    " | | |\n",
    " 2 1 |\n",
    "=======\n",
    " | | |\n",
    " | 1 2\n",
    "=======\n",
    " | | 1\n",
    " | | 2\n",
    "=======\n",
    "```"
   ]
  },
  {
   "cell_type": "markdown",
   "metadata": {},
   "source": [
    "## Exercice 12 :\n",
    "\n",
    "Modifier l’affichage pour avoir quelque chose de plus visuel.\n",
    "\n",
    "L’idée est de représenter le disque k par une chaîne de 2k+ 1 symboles '='.\n",
    "\n",
    "Chaque pile occupe 2n+ 1 colonnes, donc la colonne centrale correspond à la tige, représentée par '|' s’il n’y a pas de disque sur la ligne affichée.\n",
    "\n",
    "Écrire la fonction `affichage_complexe(matrice, n)` qui réalise l’affichage suivant :\n",
    "\n",
    "```\n",
    ">>> affichage_complexe([[5, 4, 3, 2, 1], [0, 0, 0, 0, 0], [0, 0, 0, 0, 0]],5)\n",
    "    ===         |          |     \n",
    "   =====        |          |     \n",
    "  =======       |          |     \n",
    " =========      |          |     \n",
    "===========     |          |     \n",
    "\n",
    ">>> affichage_complexe([[5, 4, 0, 0, 0], [3, 2, 0, 0, 0], [1, 0, 0, 0, 0]],5)\n",
    "     |          |          |     \n",
    "     |          |          |     \n",
    "     |          |          |     \n",
    " =========    =====        |     \n",
    "===========  =======      === \n",
    "```"
   ]
  },
  {
   "cell_type": "code",
   "execution_count": null,
   "metadata": {},
   "outputs": [],
   "source": [
    "def affichage_complexe(matrice, n):\n",
    "\n",
    "    \n",
    "    "
   ]
  },
  {
   "cell_type": "markdown",
   "metadata": {},
   "source": [
    "Reprendre les exercices 10 et 11 avec cet affichage...\n",
    "\n",
    "## Exercice 13 :\n",
    "\n",
    "Pour améliorer encore l'affichage, rendez le définitivement plus visuel à l'aide du module `ipycanvas`..."
   ]
  },
  {
   "cell_type": "code",
   "execution_count": null,
   "metadata": {},
   "outputs": [],
   "source": [
    "from ipycanvas import Canvas"
   ]
  },
  {
   "cell_type": "code",
   "execution_count": null,
   "metadata": {},
   "outputs": [],
   "source": [
    "def affichage_canvas(matrice, n) :\n",
    "    \n",
    "    hanoi = Canvas(width = '''en fonction de n''', height = '''en fonction de n''')\n",
    "    "
   ]
  },
  {
   "cell_type": "markdown",
   "metadata": {},
   "source": [
    "## Consignes, rappels :\n",
    "\n",
    "Vous devez enregister ce fichier sous le nom `HANOI_C-nom-prenom.ipynb`\n",
    "\n",
    "De plus vous devez compléter votre fichier `HANOI-nom-prenom.py` avec le code de toutes les fonctions définies ici et dans les parties A et B, y compris le code d'implémentation pour les piles que vous avez utilisé afin de pouvoir l'importer pour la suite du développement de ce projet.\n",
    "\n",
    "À la fin de la séance, transmettez vos fichiers par mail à l'adresse `eric.madec@ecmorlaix.fr`\n",
    "\n",
    "Respectez bien le nom des fonctions pour faciliter la relecture du code.\n",
    "\n",
    "Vous pouvez rajouter des commentaires lorsque vous pensez que c’est nécessaire.\n",
    "\n",
    "De même, essayez de choisir des variables dont le nom est compréhensible, si c’est pertinent."
   ]
  },
  {
   "cell_type": "code",
   "execution_count": null,
   "metadata": {},
   "outputs": [],
   "source": []
  }
 ],
 "metadata": {
  "kernelspec": {
   "display_name": "Python 3",
   "language": "python",
   "name": "python3"
  },
  "language_info": {
   "codemirror_mode": {
    "name": "ipython",
    "version": 3
   },
   "file_extension": ".py",
   "mimetype": "text/x-python",
   "name": "python",
   "nbconvert_exporter": "python",
   "pygments_lexer": "ipython3",
   "version": "3.7.3"
  },
  "toc": {
   "base_numbering": 1,
   "nav_menu": {},
   "number_sections": true,
   "sideBar": true,
   "skip_h1_title": false,
   "title_cell": "Table of Contents",
   "title_sidebar": "Contents",
   "toc_cell": false,
   "toc_position": {},
   "toc_section_display": true,
   "toc_window_display": false
  },
  "varInspector": {
   "cols": {
    "lenName": 16,
    "lenType": 16,
    "lenVar": 40
   },
   "kernels_config": {
    "python": {
     "delete_cmd_postfix": "",
     "delete_cmd_prefix": "del ",
     "library": "var_list.py",
     "varRefreshCmd": "print(var_dic_list())"
    },
    "r": {
     "delete_cmd_postfix": ") ",
     "delete_cmd_prefix": "rm(",
     "library": "var_list.r",
     "varRefreshCmd": "cat(var_dic_list()) "
    }
   },
   "types_to_exclude": [
    "module",
    "function",
    "builtin_function_or_method",
    "instance",
    "_Feature"
   ],
   "window_display": false
  }
 },
 "nbformat": 4,
 "nbformat_minor": 4
}
